{
  "nbformat": 4,
  "nbformat_minor": 0,
  "metadata": {
    "colab": {
      "name": "Loan prediction data.ipynb",
      "version": "0.3.2",
      "provenance": []
    },
    "kernelspec": {
      "name": "python3",
      "display_name": "Python 3"
    }
  },
  "cells": [
    {
      "metadata": {
        "id": "PG2JoqF68UeQ",
        "colab_type": "text"
      },
      "cell_type": "markdown",
      "source": [
        "<H1><font color='green'>Working on EDA for Loan prediction data</font></H1>"
      ]
    },
    {
      "metadata": {
        "id": "14GNGYua71Ba",
        "colab_type": "code",
        "colab": {
          "base_uri": "https://localhost:8080/",
          "height": 122
        },
        "outputId": "3237163d-86cc-437a-9f68-6ba321023a23"
      },
      "cell_type": "code",
      "source": [
        "# Mount your google drive to have access to data\n",
        "\n",
        "from google.colab import drive\n",
        "drive.mount('/content/drive')"
      ],
      "execution_count": 1,
      "outputs": [
        {
          "output_type": "stream",
          "text": [
            "Go to this URL in a browser: https://accounts.google.com/o/oauth2/auth?client_id=947318989803-6bn6qk8qdgf4n4g3pfee6491hc0brc4i.apps.googleusercontent.com&redirect_uri=urn%3Aietf%3Awg%3Aoauth%3A2.0%3Aoob&scope=email%20https%3A%2F%2Fwww.googleapis.com%2Fauth%2Fdocs.test%20https%3A%2F%2Fwww.googleapis.com%2Fauth%2Fdrive%20https%3A%2F%2Fwww.googleapis.com%2Fauth%2Fdrive.photos.readonly%20https%3A%2F%2Fwww.googleapis.com%2Fauth%2Fpeopleapi.readonly&response_type=code\n",
            "\n",
            "Enter your authorization code:\n",
            "··········\n",
            "Mounted at /content/drive\n"
          ],
          "name": "stdout"
        }
      ]
    },
    {
      "metadata": {
        "id": "B47_8i46xFV1",
        "colab_type": "code",
        "colab": {}
      },
      "cell_type": "code",
      "source": [
        "import pandas as pd\n",
        "import numpy as np\n",
        "from sklearn.model_selection import train_test_split\n",
        "import matplotlib.pyplot as plt\n",
        "from sklearn.ensemble import GradientBoostingClassifier"
      ],
      "execution_count": 0,
      "outputs": []
    },
    {
      "metadata": {
        "id": "yGMseuMo1UGp",
        "colab_type": "code",
        "colab": {
          "base_uri": "https://localhost:8080/",
          "height": 374
        },
        "outputId": "060d09e0-7765-43ff-d82b-435bc1d73503"
      },
      "cell_type": "code",
      "source": [
        "df = pd.read_csv('drive/My Drive/trainLoanPrediction.csv')\n",
        "print(df.head())\n",
        "print(df.shape)"
      ],
      "execution_count": 3,
      "outputs": [
        {
          "output_type": "stream",
          "text": [
            "    Loan_ID Gender Married Dependents     Education Self_Employed  \\\n",
            "0  LP001002   Male      No          0      Graduate            No   \n",
            "1  LP001003   Male     Yes          1      Graduate            No   \n",
            "2  LP001005   Male     Yes          0      Graduate           Yes   \n",
            "3  LP001006   Male     Yes          0  Not Graduate            No   \n",
            "4  LP001008   Male      No          0      Graduate            No   \n",
            "\n",
            "   ApplicantIncome  CoapplicantIncome  LoanAmount  Loan_Amount_Term  \\\n",
            "0             5849                0.0         NaN             360.0   \n",
            "1             4583             1508.0       128.0             360.0   \n",
            "2             3000                0.0        66.0             360.0   \n",
            "3             2583             2358.0       120.0             360.0   \n",
            "4             6000                0.0       141.0             360.0   \n",
            "\n",
            "   Credit_History Property_Area Loan_Status  \n",
            "0             1.0         Urban           Y  \n",
            "1             1.0         Rural           N  \n",
            "2             1.0         Urban           Y  \n",
            "3             1.0         Urban           Y  \n",
            "4             1.0         Urban           Y  \n",
            "(614, 13)\n"
          ],
          "name": "stdout"
        }
      ]
    },
    {
      "metadata": {
        "id": "ZDL-sDh7hVwH",
        "colab_type": "code",
        "colab": {
          "base_uri": "https://localhost:8080/",
          "height": 297
        },
        "outputId": "3548a7f5-267f-425a-e3bb-ef1576345650"
      },
      "cell_type": "code",
      "source": [
        "df.describe()"
      ],
      "execution_count": 4,
      "outputs": [
        {
          "output_type": "execute_result",
          "data": {
            "text/html": [
              "<div>\n",
              "<style scoped>\n",
              "    .dataframe tbody tr th:only-of-type {\n",
              "        vertical-align: middle;\n",
              "    }\n",
              "\n",
              "    .dataframe tbody tr th {\n",
              "        vertical-align: top;\n",
              "    }\n",
              "\n",
              "    .dataframe thead th {\n",
              "        text-align: right;\n",
              "    }\n",
              "</style>\n",
              "<table border=\"1\" class=\"dataframe\">\n",
              "  <thead>\n",
              "    <tr style=\"text-align: right;\">\n",
              "      <th></th>\n",
              "      <th>ApplicantIncome</th>\n",
              "      <th>CoapplicantIncome</th>\n",
              "      <th>LoanAmount</th>\n",
              "      <th>Loan_Amount_Term</th>\n",
              "      <th>Credit_History</th>\n",
              "    </tr>\n",
              "  </thead>\n",
              "  <tbody>\n",
              "    <tr>\n",
              "      <th>count</th>\n",
              "      <td>614.000000</td>\n",
              "      <td>614.000000</td>\n",
              "      <td>592.000000</td>\n",
              "      <td>600.00000</td>\n",
              "      <td>564.000000</td>\n",
              "    </tr>\n",
              "    <tr>\n",
              "      <th>mean</th>\n",
              "      <td>5403.459283</td>\n",
              "      <td>1621.245798</td>\n",
              "      <td>146.412162</td>\n",
              "      <td>342.00000</td>\n",
              "      <td>0.842199</td>\n",
              "    </tr>\n",
              "    <tr>\n",
              "      <th>std</th>\n",
              "      <td>6109.041673</td>\n",
              "      <td>2926.248369</td>\n",
              "      <td>85.587325</td>\n",
              "      <td>65.12041</td>\n",
              "      <td>0.364878</td>\n",
              "    </tr>\n",
              "    <tr>\n",
              "      <th>min</th>\n",
              "      <td>150.000000</td>\n",
              "      <td>0.000000</td>\n",
              "      <td>9.000000</td>\n",
              "      <td>12.00000</td>\n",
              "      <td>0.000000</td>\n",
              "    </tr>\n",
              "    <tr>\n",
              "      <th>25%</th>\n",
              "      <td>2877.500000</td>\n",
              "      <td>0.000000</td>\n",
              "      <td>100.000000</td>\n",
              "      <td>360.00000</td>\n",
              "      <td>1.000000</td>\n",
              "    </tr>\n",
              "    <tr>\n",
              "      <th>50%</th>\n",
              "      <td>3812.500000</td>\n",
              "      <td>1188.500000</td>\n",
              "      <td>128.000000</td>\n",
              "      <td>360.00000</td>\n",
              "      <td>1.000000</td>\n",
              "    </tr>\n",
              "    <tr>\n",
              "      <th>75%</th>\n",
              "      <td>5795.000000</td>\n",
              "      <td>2297.250000</td>\n",
              "      <td>168.000000</td>\n",
              "      <td>360.00000</td>\n",
              "      <td>1.000000</td>\n",
              "    </tr>\n",
              "    <tr>\n",
              "      <th>max</th>\n",
              "      <td>81000.000000</td>\n",
              "      <td>41667.000000</td>\n",
              "      <td>700.000000</td>\n",
              "      <td>480.00000</td>\n",
              "      <td>1.000000</td>\n",
              "    </tr>\n",
              "  </tbody>\n",
              "</table>\n",
              "</div>"
            ],
            "text/plain": [
              "       ApplicantIncome  CoapplicantIncome  LoanAmount  Loan_Amount_Term  \\\n",
              "count       614.000000         614.000000  592.000000         600.00000   \n",
              "mean       5403.459283        1621.245798  146.412162         342.00000   \n",
              "std        6109.041673        2926.248369   85.587325          65.12041   \n",
              "min         150.000000           0.000000    9.000000          12.00000   \n",
              "25%        2877.500000           0.000000  100.000000         360.00000   \n",
              "50%        3812.500000        1188.500000  128.000000         360.00000   \n",
              "75%        5795.000000        2297.250000  168.000000         360.00000   \n",
              "max       81000.000000       41667.000000  700.000000         480.00000   \n",
              "\n",
              "       Credit_History  \n",
              "count      564.000000  \n",
              "mean         0.842199  \n",
              "std          0.364878  \n",
              "min          0.000000  \n",
              "25%          1.000000  \n",
              "50%          1.000000  \n",
              "75%          1.000000  \n",
              "max          1.000000  "
            ]
          },
          "metadata": {
            "tags": []
          },
          "execution_count": 4
        }
      ]
    },
    {
      "metadata": {
        "id": "YaRYRcHp8UXF",
        "colab_type": "code",
        "colab": {
          "base_uri": "https://localhost:8080/",
          "height": 255
        },
        "outputId": "f9282c5e-0952-4e53-c1f3-54700f06e8ca"
      },
      "cell_type": "code",
      "source": [
        "# We can notice LoanAmount and Credit_History have null values from above plot\n",
        "# Lets check more for null counts in remaining columns as well\n",
        "\n",
        "df.apply(lambda x: sum(x.isnull()), axis = 0)"
      ],
      "execution_count": 5,
      "outputs": [
        {
          "output_type": "execute_result",
          "data": {
            "text/plain": [
              "Loan_ID               0\n",
              "Gender               13\n",
              "Married               3\n",
              "Dependents           15\n",
              "Education             0\n",
              "Self_Employed        32\n",
              "ApplicantIncome       0\n",
              "CoapplicantIncome     0\n",
              "LoanAmount           22\n",
              "Loan_Amount_Term     14\n",
              "Credit_History       50\n",
              "Property_Area         0\n",
              "Loan_Status           0\n",
              "dtype: int64"
            ]
          },
          "metadata": {
            "tags": []
          },
          "execution_count": 5
        }
      ]
    },
    {
      "metadata": {
        "id": "Fh7DnDlI9Lbm",
        "colab_type": "code",
        "colab": {}
      },
      "cell_type": "code",
      "source": [
        "# Few more libs to make things easier\n",
        "!pip install missingno\n",
        "!pip install pandas-profiling"
      ],
      "execution_count": 0,
      "outputs": []
    },
    {
      "metadata": {
        "id": "us-27bX6-4km",
        "colab_type": "code",
        "colab": {
          "base_uri": "https://localhost:8080/",
          "height": 549
        },
        "outputId": "7930ad06-a582-4708-e8ef-3c37142c5d2e"
      },
      "cell_type": "code",
      "source": [
        "import missingno as msno\n",
        "msno.heatmap(df, figsize=(16,7))\n",
        "# The plot brings out no clear relation between missing values, you can go for matrix plot as well for similar analysis"
      ],
      "execution_count": 8,
      "outputs": [
        {
          "output_type": "execute_result",
          "data": {
            "text/plain": [
              "<matplotlib.axes._subplots.AxesSubplot at 0x7fc3381aca58>"
            ]
          },
          "metadata": {
            "tags": []
          },
          "execution_count": 8
        },
        {
          "output_type": "display_data",
          "data": {
            "image/png": "[encoded data removed]",
            "text/plain": [
              "<matplotlib.figure.Figure at 0x7fc3381a43c8>"
            ]
          },
          "metadata": {
            "tags": []
          }
        }
      ]
    },
    {
      "metadata": {
        "id": "Sfx0uyLIAKB1",
        "colab_type": "code",
        "colab": {
          "base_uri": "https://localhost:8080/",
          "height": 401
        },
        "outputId": "ee40a2a1-19c7-4e0d-e6c3-576994607b2f"
      },
      "cell_type": "code",
      "source": [
        "print(df.columns.values.tolist())\n",
        "df['ApplicantIncome'].hist(bins=20)"
      ],
      "execution_count": 9,
      "outputs": [
        {
          "output_type": "stream",
          "text": [
            "['Loan_ID', 'Gender', 'Married', 'Dependents', 'Education', 'Self_Employed', 'ApplicantIncome', 'CoapplicantIncome', 'LoanAmount', 'Loan_Amount_Term', 'Credit_History', 'Property_Area', 'Loan_Status']\n"
          ],
          "name": "stdout"
        },
        {
          "output_type": "execute_result",
          "data": {
            "text/plain": [
              "<matplotlib.axes._subplots.AxesSubplot at 0x7fc33812ae10>"
            ]
          },
          "metadata": {
            "tags": []
          },
          "execution_count": 9
        },
        {
          "output_type": "display_data",
          "data": {
            "image/png": "[encoded data removed]",
            "text/plain": [
              "<matplotlib.figure.Figure at 0x7fc3381a42b0>"
            ]
          },
          "metadata": {
            "tags": []
          }
        }
      ]
    },
    {
      "metadata": {
        "id": "-gEbXm74DERi",
        "colab_type": "code",
        "colab": {
          "base_uri": "https://localhost:8080/",
          "height": 364
        },
        "outputId": "28306162-7e9c-43e5-9c92-5a1449b4f1ac"
      },
      "cell_type": "code",
      "source": [
        "df['LoanAmount'].hist(bins=20)\n",
        "# Both these plots show the data is very skewed on these columns"
      ],
      "execution_count": 10,
      "outputs": [
        {
          "output_type": "execute_result",
          "data": {
            "text/plain": [
              "<matplotlib.axes._subplots.AxesSubplot at 0x7fc3381a41d0>"
            ]
          },
          "metadata": {
            "tags": []
          },
          "execution_count": 10
        },
        {
          "output_type": "display_data",
          "data": {
            "image/png": "[encoded data removed]",
            "text/plain": [
              "<matplotlib.figure.Figure at 0x7fc33589dba8>"
            ]
          },
          "metadata": {
            "tags": []
          }
        }
      ]
    },
    {
      "metadata": {
        "id": "s57exOhOD_Pk",
        "colab_type": "code",
        "colab": {
          "base_uri": "https://localhost:8080/",
          "height": 372
        },
        "outputId": "be6ebb9a-dbd9-4115-9d48-c7bd58fdf46d"
      },
      "cell_type": "code",
      "source": [
        "df['passed']= df.Loan_Status.eq('Y').mul(1)\n",
        "plt.matshow(df[['LoanAmount', 'ApplicantIncome', 'passed']].corr())\n",
        "\n",
        "# We can see a correlation between Loan amount and ApplicantIncome, which is very much expected"
      ],
      "execution_count": 12,
      "outputs": [
        {
          "output_type": "execute_result",
          "data": {
            "text/plain": [
              "<matplotlib.image.AxesImage at 0x7fc335746fd0>"
            ]
          },
          "metadata": {
            "tags": []
          },
          "execution_count": 12
        },
        {
          "output_type": "display_data",
          "data": {
            "image/png": "[encoded data removed]",
            "text/plain": [
              "<matplotlib.figure.Figure at 0x7fc33575c1d0>"
            ]
          },
          "metadata": {
            "tags": []
          }
        }
      ]
    },
    {
      "metadata": {
        "id": "bl6-0eBsJT6k",
        "colab_type": "code",
        "colab": {
          "base_uri": "https://localhost:8080/",
          "height": 364
        },
        "outputId": "2d480036-0409-4128-ae8d-6dddcdafa276"
      },
      "cell_type": "code",
      "source": [
        "# Lets remove skew from LoanAmount and ApplicantIncome, by applying log transformation\n",
        "df['LoanAmount'] = np.log(df['LoanAmount'])\n",
        "df['LoanAmount'].hist(bins=20)\n",
        "# LoanAmount became more or less normal"
      ],
      "execution_count": 60,
      "outputs": [
        {
          "output_type": "execute_result",
          "data": {
            "text/plain": [
              "<matplotlib.axes._subplots.AxesSubplot at 0x7f9743228898>"
            ]
          },
          "metadata": {
            "tags": []
          },
          "execution_count": 60
        },
        {
          "output_type": "display_data",
          "data": {
            "image/png": "[encoded data removed]",
            "text/plain": [
              "<matplotlib.figure.Figure at 0x7f9743ac5b00>"
            ]
          },
          "metadata": {
            "tags": []
          }
        }
      ]
    },
    {
      "metadata": {
        "id": "Z1C2kpvcJ2fL",
        "colab_type": "code",
        "colab": {
          "base_uri": "https://localhost:8080/",
          "height": 364
        },
        "outputId": "7c0e44a1-ee8a-4429-fc7f-ba511c007b55"
      },
      "cell_type": "code",
      "source": [
        "df['ApplicantIncome'] = np.log(df['ApplicantIncome'])\n",
        "df['ApplicantIncome'].hist(bins=20)\n",
        "# Similar behaviour"
      ],
      "execution_count": 61,
      "outputs": [
        {
          "output_type": "execute_result",
          "data": {
            "text/plain": [
              "<matplotlib.axes._subplots.AxesSubplot at 0x7f9743228828>"
            ]
          },
          "metadata": {
            "tags": []
          },
          "execution_count": 61
        },
        {
          "output_type": "display_data",
          "data": {
            "image/png": "[encoded data removed]",
            "text/plain": [
              "<matplotlib.figure.Figure at 0x7f9743162b00>"
            ]
          },
          "metadata": {
            "tags": []
          }
        }
      ]
    },
    {
      "metadata": {
        "id": "bsOEjcP6axhQ",
        "colab_type": "code",
        "colab": {}
      },
      "cell_type": "code",
      "source": [
        "! pip install sklearn-pandas\n",
        "from sklearn.preprocessing import OneHotEncoder, LabelEncoder\n",
        "from sklearn.preprocessing import Imputer\n",
        "from sklearn_pandas import CategoricalImputer\n",
        "cat_cols = ['Gender','Married','Dependents','Education','Self_Employed','Loan_Amount_Term','Credit_History','Property_Area']"
      ],
      "execution_count": 0,
      "outputs": []
    },
    {
      "metadata": {
        "id": "oRttLTwMbBGk",
        "colab_type": "code",
        "colab": {}
      },
      "cell_type": "code",
      "source": [
        "# Using categorical imputer for categorical columns to impute\n",
        "genderImputer = CategoricalImputer()\n",
        "df.Gender = genderImputer.fit_transform(df.Gender)\n",
        "\n",
        "marriedImputer = CategoricalImputer()\n",
        "df.Married = marriedImputer.fit_transform(df.Married)\n",
        "\n",
        "dependentsImputer = CategoricalImputer()\n",
        "df.Dependents = dependentsImputer.fit_transform(df.Dependents)\n",
        "\n",
        "selfEmployedImputer = CategoricalImputer()\n",
        "df.Self_Employed = selfEmployedImputer.fit_transform(df.Self_Employed)\n",
        "\n",
        "loanTermImputer = CategoricalImputer()\n",
        "df.Loan_Amount_Term = loanTermImputer.fit_transform(df.Loan_Amount_Term)\n",
        "\n",
        "creditHistory = Imputer(strategy = 'most_frequent')\n",
        "df.Credit_History = creditHistory.fit_transform(df.Credit_History.values.reshape(-1, 1))\n",
        "\n",
        "# Using imputer for continuous column\n",
        "loanAmountImputer = Imputer(strategy = 'mean')\n",
        "df.LoanAmount = loanAmountImputer.fit_transform(df.LoanAmount.values.reshape(-1, 1))"
      ],
      "execution_count": 0,
      "outputs": []
    },
    {
      "metadata": {
        "id": "QzNt2CTkbObz",
        "colab_type": "code",
        "colab": {}
      },
      "cell_type": "code",
      "source": [
        "# Lets go with LabelEncoding now\n",
        "gender_le = LabelEncoder()\n",
        "df.Gender = gender_le.fit_transform(df.Gender)\n",
        "\n",
        "married_le = LabelEncoder()\n",
        "df.Married = married_le.fit_transform(df.Married)\n",
        "\n",
        "dependents_le = LabelEncoder()\n",
        "df.Dependents = dependents_le.fit_transform(df.Dependents)\n",
        "\n",
        "education_le = LabelEncoder()\n",
        "df.Education = education_le.fit_transform(df.Education)\n",
        "\n",
        "selfemp = LabelEncoder()\n",
        "df.Self_Employed = selfemp.fit_transform(df.Self_Employed)\n",
        "\n",
        "loan_term_le = LabelEncoder()\n",
        "df.Loan_Amount_Term = loan_term_le.fit_transform(df.Loan_Amount_Term)\n",
        "\n",
        "cred_hist_le = LabelEncoder()\n",
        "df.Credit_History = cred_hist_le.fit_transform(df.Credit_History)\n",
        "\n",
        "prop_area_le = LabelEncoder()\n",
        "df.Property_Area = prop_area_le.fit_transform(df.Property_Area)\n",
        "\n",
        "loan_status_le = LabelEncoder()\n",
        "df.Loan_Status = loan_status_le.fit_transform(df.Loan_Status)"
      ],
      "execution_count": 0,
      "outputs": []
    },
    {
      "metadata": {
        "id": "O5qw0niXbYKU",
        "colab_type": "code",
        "colab": {
          "base_uri": "https://localhost:8080/",
          "height": 68
        },
        "outputId": "ee4946a3-07fd-41e4-d32c-39930ca70555"
      },
      "cell_type": "code",
      "source": [
        "from sklearn.model_selection import train_test_split\n",
        "from sklearn.metrics import confusion_matrix, accuracy_score\n",
        "\n",
        "classifier = GradientBoostingClassifier(loss = 'exponential', learning_rate = 0.15, \n",
        "   random_state = 11 , n_estimators = 100, max_depth = 2)\n",
        "\n",
        "# No cross validation for now. Might come back again\n",
        "Xtrain, Xtest, Ytrain, Ytest = train_test_split(df.drop(['Loan_ID', 'Loan_Status'], axis = 1), df['Loan_Status'], random_state = 11)\n",
        "\n",
        "classifier.fit(Xtrain, Ytrain)\n",
        "Ypred = classifier.predict(Xtest)\n",
        "print(confusion_matrix(Ytest, Ypred))\n",
        "print(accuracy_score(Ytest, Ypred))"
      ],
      "execution_count": 19,
      "outputs": [
        {
          "output_type": "stream",
          "text": [
            "[[ 44   0]\n",
            " [  0 110]]\n",
            "1.0\n"
          ],
          "name": "stdout"
        }
      ]
    },
    {
      "metadata": {
        "id": "OrOq3V-zcAQP",
        "colab_type": "code",
        "colab": {}
      },
      "cell_type": "code",
      "source": [
        "# Lets load test data now and see what happens in field actually\n",
        "dftest = pd.read_csv(\"drive/My Drive/testLoanPrediction.csv\")\n",
        "\n",
        "# Imputing\n",
        "dftest.Gender = genderImputer.transform(dftest.Gender)\n",
        "dftest.Married = marriedImputer.transform(dftest.Married)\n",
        "dftest.Dependents = dependentsImputer.transform(dftest.Dependents)\n",
        "dftest.Self_Employed = selfEmployedImputer.transform(dftest.Self_Employed)\n",
        "dftest.LoanAmount = loanAmountImputer.transform(dftest.LoanAmount.values.reshape(-1, 1))\n",
        "dftest.Loan_Amount_Term = loanTermImputer.transform(dftest.Loan_Amount_Term)\n",
        "dftest.Credit_History = creditHistory.transform(dftest.Credit_History.values.reshape(-1, 1))\n",
        "\n",
        "# Labelencoding\n",
        "dftest.Gender = gender_le.transform(dftest.Gender)\n",
        "dftest.Married = married_le.transform(dftest.Married)\n",
        "dftest.Dependents = dependents_le.transform(dftest.Dependents)\n",
        "dftest.Education = education_le.transform(dftest.Education)\n",
        "dftest.Self_Employed = selfemp.transform(dftest.Self_Employed)\n",
        "\n",
        "dftest.Credit_History = cred_hist_le.transform(dftest.Credit_History)\n",
        "dftest.Property_Area = prop_area_le.transform(dftest.Property_Area)\n",
        "\n",
        "# Faced two new values 6 and 350 while doing encoding on amount term, \n",
        "# lets replace these values with some values from original dataset. These values are clearly typos.\n",
        "dftest.Loan_Amount_Term = dftest.Loan_Amount_Term.replace(6,12)\n",
        "dftest.Loan_Amount_Term = dftest.Loan_Amount_Term.replace(350,360)\n",
        "dftest.Loan_Amount_Term = loan_term_le.transform(dftest.Loan_Amount_Term)\n",
        "\n",
        "Yfinal = classifier.predict(dftest.drop('Loan_ID', axis = 1))\n",
        "Yfinal = pd.DataFrame(Yfinal)\n",
        "Yfinal['Loan_ID'] = dftest.Loan_ID"
      ],
      "execution_count": 0,
      "outputs": []
    }
  ]
}