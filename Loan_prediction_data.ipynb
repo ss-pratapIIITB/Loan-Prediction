{
  "nbformat": 4,
  "nbformat_minor": 0,
  "metadata": {
    "colab": {
      "name": "Loan prediction data.ipynb",
      "version": "0.3.2",
      "provenance": []
    },
    "kernelspec": {
      "name": "python3",
      "display_name": "Python 3"
    }
  },
  "cells": [
    {
      "metadata": {
        "id": "PG2JoqF68UeQ",
        "colab_type": "text"
      },
      "cell_type": "markdown",
      "source": [
        "<H1><font color='green'>Working on EDA for Loan prediction data</font></H1>"
      ]
    },
    {
      "metadata": {
        "id": "14GNGYua71Ba",
        "colab_type": "code",
        "colab": {
          "base_uri": "https://localhost:8080/",
          "height": 122
        },
        "outputId": "74c45ffb-7320-4595-ae98-0de6b093229d"
      },
      "cell_type": "code",
      "source": [
        "# Mount your google drive to have access to data\n",
        "\n",
        "from google.colab import drive\n",
        "drive.mount('/content/drive')"
      ],
      "execution_count": 1,
      "outputs": [
        {
          "output_type": "stream",
          "text": [
            "Go to this URL in a browser: https://accounts.google.com/o/oauth2/auth?client_id=947318989803-6bn6qk8qdgf4n4g3pfee6491hc0brc4i.apps.googleusercontent.com&redirect_uri=urn%3Aietf%3Awg%3Aoauth%3A2.0%3Aoob&scope=email%20https%3A%2F%2Fwww.googleapis.com%2Fauth%2Fdocs.test%20https%3A%2F%2Fwww.googleapis.com%2Fauth%2Fdrive%20https%3A%2F%2Fwww.googleapis.com%2Fauth%2Fdrive.photos.readonly%20https%3A%2F%2Fwww.googleapis.com%2Fauth%2Fpeopleapi.readonly&response_type=code\n",
            "\n",
            "Enter your authorization code:\n",
            "··········\n",
            "Mounted at /content/drive\n"
          ],
          "name": "stdout"
        }
      ]
    },
    {
      "metadata": {
        "id": "B47_8i46xFV1",
        "colab_type": "code",
        "colab": {}
      },
      "cell_type": "code",
      "source": [
        "import pandas as pd\n",
        "import numpy as np\n",
        "from sklearn.model_selection import train_test_split\n",
        "import matplotlib.pyplot as plt\n",
        "from sklearn.linear_model import LogisticRegression\n",
        "from sklearn.ensemble import RandomForestClassifier"
      ],
      "execution_count": 0,
      "outputs": []
    },
    {
      "metadata": {
        "id": "yGMseuMo1UGp",
        "colab_type": "code",
        "colab": {
          "base_uri": "https://localhost:8080/",
          "height": 34
        },
        "outputId": "5c64f562-9054-400f-e897-b370d28182d3"
      },
      "cell_type": "code",
      "source": [
        "#df = pd.read_csv('drive/My Drive/trainLoanPrediction.csv')\n",
        "#print(df.head())\n",
        "print(df.shape)"
      ],
      "execution_count": 9,
      "outputs": [
        {
          "output_type": "stream",
          "text": [
            "(614, 13)\n"
          ],
          "name": "stdout"
        }
      ]
    },
    {
      "metadata": {
        "id": "cqkzzV151sFv",
        "colab_type": "code",
        "colab": {
          "base_uri": "https://localhost:8080/",
          "height": 748
        },
        "outputId": "4691d97c-bb93-4514-90c7-b6aa98063844"
      },
      "cell_type": "code",
      "source": [
        "# A quick look at all fields and unique values they contain\n",
        "print(df.groupby('Gender')['Gender'].count())\n",
        "print(df.groupby('Married')['Married'].count())\n",
        "print(df.groupby('Dependents')['Dependents'].count())\n",
        "print(df.groupby('Education')['Education'].count())\n",
        "print(df.groupby('Self_Employed')['Self_Employed'].count())\n",
        "print(df.groupby('Loan_Amount_Term')['Loan_Amount_Term'].count())\n",
        "print(df.groupby('Credit_History')['Credit_History'].count())\n",
        "print(df.groupby('Property_Area')['Property_Area'].count())"
      ],
      "execution_count": 4,
      "outputs": [
        {
          "output_type": "stream",
          "text": [
            "Gender\n",
            "Female    112\n",
            "Male      489\n",
            "Name: Gender, dtype: int64\n",
            "Married\n",
            "No     213\n",
            "Yes    398\n",
            "Name: Married, dtype: int64\n",
            "Dependents\n",
            "0     345\n",
            "1     102\n",
            "2     101\n",
            "3+     51\n",
            "Name: Dependents, dtype: int64\n",
            "Education\n",
            "Graduate        480\n",
            "Not Graduate    134\n",
            "Name: Education, dtype: int64\n",
            "Self_Employed\n",
            "No     500\n",
            "Yes     82\n",
            "Name: Self_Employed, dtype: int64\n",
            "Loan_Amount_Term\n",
            "12.0       1\n",
            "36.0       2\n",
            "60.0       2\n",
            "84.0       4\n",
            "120.0      3\n",
            "180.0     44\n",
            "240.0      4\n",
            "300.0     13\n",
            "360.0    512\n",
            "480.0     15\n",
            "Name: Loan_Amount_Term, dtype: int64\n",
            "Credit_History\n",
            "0.0     89\n",
            "1.0    475\n",
            "Name: Credit_History, dtype: int64\n",
            "Property_Area\n",
            "Rural        179\n",
            "Semiurban    233\n",
            "Urban        202\n",
            "Name: Property_Area, dtype: int64\n"
          ],
          "name": "stdout"
        }
      ]
    },
    {
      "metadata": {
        "id": "K5mUUgOsaYV0",
        "colab_type": "code",
        "colab": {
          "base_uri": "https://localhost:8080/",
          "height": 153
        },
        "outputId": "79377617-62be-4e5c-83ea-02ad2c282e01"
      },
      "cell_type": "code",
      "source": [
        "# A look at the null values in columns.\n",
        "print('Total values: %d, total nulls: %d' %(len(df['Gender']),  df['Gender'].isna().sum()))\n",
        "print('Total values: %d, total nulls: %d' %(len(df['Married']),  df['Married'].isna().sum()))\n",
        "print('Total values: %d, total nulls: %d' %(len(df['Dependents']),  df['Dependents'].isna().sum()))\n",
        "print('Total values: %d, total nulls: %d' %(len(df['Education']),  df['Education'].isna().sum()))\n",
        "print('Total values: %d, total nulls: %d' %(len(df['Self_Employed']),  df['Self_Employed'].isna().sum()))\n",
        "print('Total values: %d, total nulls: %d' %(len(df['Loan_Amount_Term']),  df['Loan_Amount_Term'].isna().sum()))\n",
        "print('Total values: %d, total nulls: %d' %(len(df['Credit_History']),  df['Credit_History'].isna().sum()))\n",
        "print('Total values: %d, total nulls: %d' %(len(df['Property_Area']),  df['Property_Area'].isna().sum()))\n",
        "\n",
        "# There aren't many null values, we can assume them to be another class for the sake of baselining"
      ],
      "execution_count": 7,
      "outputs": [
        {
          "output_type": "stream",
          "text": [
            "Total values: 614, total nulls: 13\n",
            "Total values: 614, total nulls: 3\n",
            "Total values: 614, total nulls: 15\n",
            "Total values: 614, total nulls: 0\n",
            "Total values: 614, total nulls: 32\n",
            "Total values: 614, total nulls: 14\n",
            "Total values: 614, total nulls: 50\n",
            "Total values: 614, total nulls: 0\n"
          ],
          "name": "stdout"
        }
      ]
    },
    {
      "metadata": {
        "id": "7golZCyRcTnp",
        "colab_type": "code",
        "colab": {
          "base_uri": "https://localhost:8080/",
          "height": 765
        },
        "outputId": "0d9c19ae-a709-458e-9ce6-ea06a7b86464"
      },
      "cell_type": "code",
      "source": [
        "X = pd.get_dummies(df, dummy_na = True, drop_first=True, columns = ['Gender', 'Married', 'Dependents', 'Education', 'Self_Employed', 'Loan_Amount_Term', 'Credit_History', 'Property_Area'])\n",
        "print(X.head())\n",
        "print(X.shape)"
      ],
      "execution_count": 12,
      "outputs": [
        {
          "output_type": "stream",
          "text": [
            "    Loan_ID  ApplicantIncome  CoapplicantIncome  LoanAmount Loan_Status  \\\n",
            "0  LP001002             5849                0.0         NaN           Y   \n",
            "1  LP001003             4583             1508.0       128.0           N   \n",
            "2  LP001005             3000                0.0        66.0           Y   \n",
            "3  LP001006             2583             2358.0       120.0           Y   \n",
            "4  LP001008             6000                0.0       141.0           Y   \n",
            "\n",
            "   Gender_Male  Gender_nan  Married_Yes  Married_nan  Dependents_1  \\\n",
            "0            1           0            0            0             0   \n",
            "1            1           0            1            0             1   \n",
            "2            1           0            1            0             0   \n",
            "3            1           0            1            0             0   \n",
            "4            1           0            0            0             0   \n",
            "\n",
            "         ...          Loan_Amount_Term_240.0  Loan_Amount_Term_300.0  \\\n",
            "0        ...                               0                       0   \n",
            "1        ...                               0                       0   \n",
            "2        ...                               0                       0   \n",
            "3        ...                               0                       0   \n",
            "4        ...                               0                       0   \n",
            "\n",
            "   Loan_Amount_Term_360.0  Loan_Amount_Term_480.0  Loan_Amount_Term_nan  \\\n",
            "0                       1                       0                     0   \n",
            "1                       1                       0                     0   \n",
            "2                       1                       0                     0   \n",
            "3                       1                       0                     0   \n",
            "4                       1                       0                     0   \n",
            "\n",
            "   Credit_History_1.0  Credit_History_nan  Property_Area_Semiurban  \\\n",
            "0                   1                   0                        0   \n",
            "1                   1                   0                        0   \n",
            "2                   1                   0                        0   \n",
            "3                   1                   0                        0   \n",
            "4                   1                   0                        0   \n",
            "\n",
            "   Property_Area_Urban  Property_Area_nan  \n",
            "0                    1                  0  \n",
            "1                    0                  0  \n",
            "2                    1                  0  \n",
            "3                    1                  0  \n",
            "4                    1                  0  \n",
            "\n",
            "[5 rows x 32 columns]\n",
            "(614, 32)\n"
          ],
          "name": "stdout"
        }
      ]
    },
    {
      "metadata": {
        "id": "HfYmwKqXe9Vk",
        "colab_type": "code",
        "colab": {}
      },
      "cell_type": "code",
      "source": [
        "# Baselining\n",
        "X['Loan_Status'] = X.Loan_Status.map(dict(Y=1, N=0))\n",
        "Y = X['Loan_Status']\n",
        "X.drop(columns=['Loan_Status', 'Loan_ID'], inplace=True)\n",
        "classifier = LogisticRegression(random_state=11)\n",
        "trainX, testX, trainY, testY = train_test_split(X, Y, random_state=11)"
      ],
      "execution_count": 0,
      "outputs": []
    },
    {
      "metadata": {
        "id": "ZDL-sDh7hVwH",
        "colab_type": "code",
        "colab": {
          "base_uri": "https://localhost:8080/",
          "height": 541
        },
        "outputId": "1f334add-815f-4ecd-fa65-2ad6ba306d18"
      },
      "cell_type": "code",
      "source": [
        "classifier.fit(trainX, trainY)"
      ],
      "execution_count": 19,
      "outputs": [
        {
          "output_type": "error",
          "ename": "ValueError",
          "evalue": "ignored",
          "traceback": [
            "\u001b[0;31m---------------------------------------------------------------------------\u001b[0m",
            "\u001b[0;31mValueError\u001b[0m                                Traceback (most recent call last)",
            "\u001b[0;32m<ipython-input-19-06811e544dcd>\u001b[0m in \u001b[0;36m<module>\u001b[0;34m()\u001b[0m\n\u001b[0;32m----> 1\u001b[0;31m \u001b[0mclassifier\u001b[0m\u001b[0;34m.\u001b[0m\u001b[0mfit\u001b[0m\u001b[0;34m(\u001b[0m\u001b[0mtrainX\u001b[0m\u001b[0;34m,\u001b[0m \u001b[0mY\u001b[0m\u001b[0;34m)\u001b[0m\u001b[0;34m\u001b[0m\u001b[0m\n\u001b[0m",
            "\u001b[0;32m/usr/local/lib/python3.6/dist-packages/sklearn/linear_model/logistic.py\u001b[0m in \u001b[0;36mfit\u001b[0;34m(self, X, y, sample_weight)\u001b[0m\n\u001b[1;32m   1218\u001b[0m \u001b[0;34m\u001b[0m\u001b[0m\n\u001b[1;32m   1219\u001b[0m         X, y = check_X_y(X, y, accept_sparse='csr', dtype=_dtype,\n\u001b[0;32m-> 1220\u001b[0;31m                          order=\"C\")\n\u001b[0m\u001b[1;32m   1221\u001b[0m         \u001b[0mcheck_classification_targets\u001b[0m\u001b[0;34m(\u001b[0m\u001b[0my\u001b[0m\u001b[0;34m)\u001b[0m\u001b[0;34m\u001b[0m\u001b[0m\n\u001b[1;32m   1222\u001b[0m         \u001b[0mself\u001b[0m\u001b[0;34m.\u001b[0m\u001b[0mclasses_\u001b[0m \u001b[0;34m=\u001b[0m \u001b[0mnp\u001b[0m\u001b[0;34m.\u001b[0m\u001b[0munique\u001b[0m\u001b[0;34m(\u001b[0m\u001b[0my\u001b[0m\u001b[0;34m)\u001b[0m\u001b[0;34m\u001b[0m\u001b[0m\n",
            "\u001b[0;32m/usr/local/lib/python3.6/dist-packages/sklearn/utils/validation.py\u001b[0m in \u001b[0;36mcheck_X_y\u001b[0;34m(X, y, accept_sparse, dtype, order, copy, force_all_finite, ensure_2d, allow_nd, multi_output, ensure_min_samples, ensure_min_features, y_numeric, warn_on_dtype, estimator)\u001b[0m\n\u001b[1;32m    571\u001b[0m     X = check_array(X, accept_sparse, dtype, order, copy, force_all_finite,\n\u001b[1;32m    572\u001b[0m                     \u001b[0mensure_2d\u001b[0m\u001b[0;34m,\u001b[0m \u001b[0mallow_nd\u001b[0m\u001b[0;34m,\u001b[0m \u001b[0mensure_min_samples\u001b[0m\u001b[0;34m,\u001b[0m\u001b[0;34m\u001b[0m\u001b[0m\n\u001b[0;32m--> 573\u001b[0;31m                     ensure_min_features, warn_on_dtype, estimator)\n\u001b[0m\u001b[1;32m    574\u001b[0m     \u001b[0;32mif\u001b[0m \u001b[0mmulti_output\u001b[0m\u001b[0;34m:\u001b[0m\u001b[0;34m\u001b[0m\u001b[0m\n\u001b[1;32m    575\u001b[0m         y = check_array(y, 'csr', force_all_finite=True, ensure_2d=False,\n",
            "\u001b[0;32m/usr/local/lib/python3.6/dist-packages/sklearn/utils/validation.py\u001b[0m in \u001b[0;36mcheck_array\u001b[0;34m(array, accept_sparse, dtype, order, copy, force_all_finite, ensure_2d, allow_nd, ensure_min_samples, ensure_min_features, warn_on_dtype, estimator)\u001b[0m\n\u001b[1;32m    431\u001b[0m                                       force_all_finite)\n\u001b[1;32m    432\u001b[0m     \u001b[0;32melse\u001b[0m\u001b[0;34m:\u001b[0m\u001b[0;34m\u001b[0m\u001b[0m\n\u001b[0;32m--> 433\u001b[0;31m         \u001b[0marray\u001b[0m \u001b[0;34m=\u001b[0m \u001b[0mnp\u001b[0m\u001b[0;34m.\u001b[0m\u001b[0marray\u001b[0m\u001b[0;34m(\u001b[0m\u001b[0marray\u001b[0m\u001b[0;34m,\u001b[0m \u001b[0mdtype\u001b[0m\u001b[0;34m=\u001b[0m\u001b[0mdtype\u001b[0m\u001b[0;34m,\u001b[0m \u001b[0morder\u001b[0m\u001b[0;34m=\u001b[0m\u001b[0morder\u001b[0m\u001b[0;34m,\u001b[0m \u001b[0mcopy\u001b[0m\u001b[0;34m=\u001b[0m\u001b[0mcopy\u001b[0m\u001b[0;34m)\u001b[0m\u001b[0;34m\u001b[0m\u001b[0m\n\u001b[0m\u001b[1;32m    434\u001b[0m \u001b[0;34m\u001b[0m\u001b[0m\n\u001b[1;32m    435\u001b[0m         \u001b[0;32mif\u001b[0m \u001b[0mensure_2d\u001b[0m\u001b[0;34m:\u001b[0m\u001b[0;34m\u001b[0m\u001b[0m\n",
            "\u001b[0;31mValueError\u001b[0m: could not convert string to float: 'LP001972'"
          ]
        }
      ]
    }
  ]
}